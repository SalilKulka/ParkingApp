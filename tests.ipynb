{
 "cells": [
  {
   "cell_type": "code",
   "execution_count": 8,
   "metadata": {},
   "outputs": [
    {
     "ename": "ValueError",
     "evalue": "Expect x to be a 1-D sorted array_like.",
     "output_type": "error",
     "traceback": [
      "\u001b[1;31m---------------------------------------------------------------------------\u001b[0m",
      "\u001b[1;31mValueError\u001b[0m                                Traceback (most recent call last)",
      "\u001b[1;32mc:\\Users\\Salil kulkarni\\Desktop\\TARQ\\ParkingApp\\tests.ipynb Cell 1\u001b[0m in \u001b[0;36m<cell line: 25>\u001b[1;34m()\u001b[0m\n\u001b[0;32m     <a href='vscode-notebook-cell:/c%3A/Users/Salil%20kulkarni/Desktop/TARQ/ParkingApp/tests.ipynb#W0sZmlsZQ%3D%3D?line=20'>21</a>\u001b[0m points_y \u001b[39m=\u001b[39m np\u001b[39m.\u001b[39mrandom\u001b[39m.\u001b[39mrand(\u001b[39m20\u001b[39m) \u001b[39m# Generate 20 random points\u001b[39;00m\n\u001b[0;32m     <a href='vscode-notebook-cell:/c%3A/Users/Salil%20kulkarni/Desktop/TARQ/ParkingApp/tests.ipynb#W0sZmlsZQ%3D%3D?line=22'>23</a>\u001b[0m \u001b[39m# nearest_points(curve, points)\u001b[39;00m\n\u001b[1;32m---> <a href='vscode-notebook-cell:/c%3A/Users/Salil%20kulkarni/Desktop/TARQ/ParkingApp/tests.ipynb#W0sZmlsZQ%3D%3D?line=24'>25</a>\u001b[0m X_Y_Spline \u001b[39m=\u001b[39m make_interp_spline(curve_x, curve_y)\n\u001b[0;32m     <a href='vscode-notebook-cell:/c%3A/Users/Salil%20kulkarni/Desktop/TARQ/ParkingApp/tests.ipynb#W0sZmlsZQ%3D%3D?line=26'>27</a>\u001b[0m \u001b[39m# Returns evenly spaced numbers\u001b[39;00m\n\u001b[0;32m     <a href='vscode-notebook-cell:/c%3A/Users/Salil%20kulkarni/Desktop/TARQ/ParkingApp/tests.ipynb#W0sZmlsZQ%3D%3D?line=27'>28</a>\u001b[0m \u001b[39m# over a specified interval.\u001b[39;00m\n\u001b[0;32m     <a href='vscode-notebook-cell:/c%3A/Users/Salil%20kulkarni/Desktop/TARQ/ParkingApp/tests.ipynb#W0sZmlsZQ%3D%3D?line=28'>29</a>\u001b[0m X_ \u001b[39m=\u001b[39m np\u001b[39m.\u001b[39mlinspace(curve_x\u001b[39m.\u001b[39mmin(), curve_x\u001b[39m.\u001b[39mmax(), \u001b[39m500\u001b[39m)\n",
      "File \u001b[1;32mc:\\Users\\Salil kulkarni\\AppData\\Local\\Programs\\Python\\Python310\\lib\\site-packages\\scipy\\interpolate\\_bsplines.py:1293\u001b[0m, in \u001b[0;36mmake_interp_spline\u001b[1;34m(x, y, k, t, bc_type, axis, check_finite)\u001b[0m\n\u001b[0;32m   1290\u001b[0m t \u001b[39m=\u001b[39m _as_float_array(t, check_finite)\n\u001b[0;32m   1292\u001b[0m \u001b[39mif\u001b[39;00m x\u001b[39m.\u001b[39mndim \u001b[39m!=\u001b[39m \u001b[39m1\u001b[39m \u001b[39mor\u001b[39;00m np\u001b[39m.\u001b[39many(x[\u001b[39m1\u001b[39m:] \u001b[39m<\u001b[39m x[:\u001b[39m-\u001b[39m\u001b[39m1\u001b[39m]):\n\u001b[1;32m-> 1293\u001b[0m     \u001b[39mraise\u001b[39;00m \u001b[39mValueError\u001b[39;00m(\u001b[39m\"\u001b[39m\u001b[39mExpect x to be a 1-D sorted array_like.\u001b[39m\u001b[39m\"\u001b[39m)\n\u001b[0;32m   1294\u001b[0m \u001b[39mif\u001b[39;00m np\u001b[39m.\u001b[39many(x[\u001b[39m1\u001b[39m:] \u001b[39m==\u001b[39m x[:\u001b[39m-\u001b[39m\u001b[39m1\u001b[39m]):\n\u001b[0;32m   1295\u001b[0m     \u001b[39mraise\u001b[39;00m \u001b[39mValueError\u001b[39;00m(\u001b[39m\"\u001b[39m\u001b[39mExpect x to not have duplicates\u001b[39m\u001b[39m\"\u001b[39m)\n",
      "\u001b[1;31mValueError\u001b[0m: Expect x to be a 1-D sorted array_like."
     ]
    }
   ],
   "source": [
    "import numpy as np\n",
    "import matplotlib.pyplot as plt\n",
    "from scipy.interpolate import make_interp_spline\n",
    "\n",
    "def nearest_points(curve, points):\n",
    "    # Find the distances between each point and all the points on the curve\n",
    "    distances = np.linalg.norm(curve[:, np.newaxis, :] - points[np.newaxis, :, :], axis=2)\n",
    "    \n",
    "    # Find the indices of the two points with the minimum distance for each point\n",
    "    nearest_indices = np.argpartition(distances, 2, axis=0)[:2]\n",
    "    \n",
    "    print(f\"nearest_indices = {nearest_indices}\")\n",
    "\n",
    "    # Return the two nearest points for each point\n",
    "    return curve[nearest_indices]\n",
    "\n",
    "# Test the function\n",
    "curve_x = np.random.rand(1,20) # Generate a random curve with 20 points\n",
    "curve_y = np.random.rand(1,20) # Generate a random curve with 20 points\n",
    "points_x = np.random.rand(20) # Generate 20 random points\n",
    "points_y = np.random.rand(20) # Generate 20 random points\n",
    "\n",
    "# nearest_points(curve, points)\n",
    "\n",
    "X_Y_Spline = make_interp_spline(curve_x, curve_y)\n",
    "\n",
    "# Returns evenly spaced numbers\n",
    "# over a specified interval.\n",
    "X_ = np.linspace(curve_x.min(), curve_x.max(), 500)\n",
    "Y_ = X_Y_Spline(X_)\n",
    "\n",
    "# Plotting the Graph\n",
    "plt.plot(X_, Y_)\n",
    "plt.title(\"Plot Smooth Curve Using the scipy.interpolate.make_interp_spline() Class\")\n",
    "plt.xlabel(\"X\")\n",
    "plt.ylabel(\"Y\")\n",
    "plt.show()"
   ]
  }
 ],
 "metadata": {
  "kernelspec": {
   "display_name": "Python 3",
   "language": "python",
   "name": "python3"
  },
  "language_info": {
   "codemirror_mode": {
    "name": "ipython",
    "version": 3
   },
   "file_extension": ".py",
   "mimetype": "text/x-python",
   "name": "python",
   "nbconvert_exporter": "python",
   "pygments_lexer": "ipython3",
   "version": "3.10.2"
  },
  "orig_nbformat": 4,
  "vscode": {
   "interpreter": {
    "hash": "daed58c29187cd5cecb9b4716cbb9e18f275bd5c3df4c979c0bb7cc643de0754"
   }
  }
 },
 "nbformat": 4,
 "nbformat_minor": 2
}
