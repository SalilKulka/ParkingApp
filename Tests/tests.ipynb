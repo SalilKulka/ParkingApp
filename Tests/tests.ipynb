{
 "cells": [
  {
   "cell_type": "code",
   "execution_count": 4,
   "metadata": {},
   "outputs": [],
   "source": [
    "# importing the module\n",
    "import cv2\n",
    "import math\n",
    "from win32api import GetSystemMetrics\n",
    "import time\n",
    "import numpy as np\n",
    "import os"
   ]
  },
  {
   "cell_type": "code",
   "execution_count": 5,
   "metadata": {},
   "outputs": [],
   "source": [
    "def get_MP_FromBuildings_ButAlsoText(img):\n",
    "\n",
    "    # Upper and lower color limit\n",
    "    low_yellow = (239,248,253)\n",
    "    high_yellow = (243,252,255)\n",
    "\n",
    "    low_gray = (241,241,241)\n",
    "    high_gray = (244,243,241)\n",
    "\n",
    "    # create masks\n",
    "    yellow_mask = cv2.inRange(img, low_yellow, high_yellow )\n",
    "    gray_mask = cv2.inRange(img, low_gray, high_gray)\n",
    "\n",
    "    # combine masks\n",
    "    combined_mask = cv2.bitwise_or(yellow_mask, gray_mask)\n",
    "    kernel = np.ones((3,3), dtype=np.uint8)\n",
    "    combined_mask = cv2.morphologyEx(combined_mask, cv2.MORPH_DILATE,kernel)\n",
    "\n",
    "    # findcontours\n",
    "    cnts=cv2.findContours(combined_mask, cv2.RETR_EXTERNAL, cv2.CHAIN_APPROX_SIMPLE)\n",
    "    cnts = cnts[0] if len(cnts) == 2 else cnts[1]\n",
    "    for c in cnts:\n",
    "        area = cv2.contourArea(c)\n",
    "        if area > 200:\n",
    "            cv2.drawContours(img, [c], -1, (255,0,255), thickness=1)\n",
    "\n",
    "    cv2.imshow('ggs', img)\n",
    "    cv2.waitKey(0)\n",
    "    cv2.destroyAllWindows()\n",
    "    # write points in mounting list\n",
    "    # mountingPoints = []\n",
    "    # for y in range(len(img)):\n",
    "    #     for x in range(len(img[y])):\n",
    "    #         b = img[y, x, 0]\n",
    "    #         g = img[y, x, 1]\n",
    "    #         r = img[y, x, 2]\n",
    "    #         if(b == 255 and g == 0 and r == 255):\n",
    "    #             mountingPoints.append((x,y))\n",
    "\n",
    "    # return mountingPoints"
   ]
  },
  {
   "cell_type": "code",
   "execution_count": 6,
   "metadata": {},
   "outputs": [],
   "source": [
    "# Image path\n",
    "imagePath = 'C:\\\\Users\\\\Salil kulkarni\\\\Desktop\\\\TARQ\\\\ParkingApp'\n",
    "imageName = \"snazzyMap1\"\n",
    "resizedImageName = imageName + \"_resized\"\n",
    "\n",
    "img = cv2.imread(os.path.join(imagePath, resizedImageName+\".PNG\"), 1)\n",
    "\n",
    "get_MP_FromBuildings_ButAlsoText(img)\n",
    "\n"
   ]
  }
 ],
 "metadata": {
  "kernelspec": {
   "display_name": "Python 3",
   "language": "python",
   "name": "python3"
  },
  "language_info": {
   "codemirror_mode": {
    "name": "ipython",
    "version": 3
   },
   "file_extension": ".py",
   "mimetype": "text/x-python",
   "name": "python",
   "nbconvert_exporter": "python",
   "pygments_lexer": "ipython3",
   "version": "3.10.2 (tags/v3.10.2:a58ebcc, Jan 17 2022, 14:12:15) [MSC v.1929 64 bit (AMD64)]"
  },
  "orig_nbformat": 4,
  "vscode": {
   "interpreter": {
    "hash": "daed58c29187cd5cecb9b4716cbb9e18f275bd5c3df4c979c0bb7cc643de0754"
   }
  }
 },
 "nbformat": 4,
 "nbformat_minor": 2
}
